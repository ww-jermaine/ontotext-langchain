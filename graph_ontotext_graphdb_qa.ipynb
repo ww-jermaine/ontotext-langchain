{
 "cells": [
  {
   "cell_type": "markdown",
   "id": "922a7a98-7d73-4a1a-8860-76a33451d1be",
   "metadata": {
    "id": "922a7a98-7d73-4a1a-8860-76a33451d1be"
   },
   "source": [
    "# Ontotext GraphDB QA Chain\n",
    "\n",
    "This notebook shows how to use LLMs to provide natural language querying (NLQ to SPARQL, also called text2sparql) for [Ontotext GraphDB](https://graphdb.ontotext.com/). Ontotext GraphDB is a graph database and knowledge discovery tool compliant with [RDF](https://www.w3.org/RDF/) and [SPARQL](https://www.w3.org/TR/sparql11-query/).\n",
    "\n",
    "## GraphDB LLM Functionalities\n",
    "\n",
    "GraphDB supports some LLM integration functionalities as described in [https://github.com/w3c/sparql-dev/issues/193](https://github.com/w3c/sparql-dev/issues/193):\n",
    "\n",
    "[gpt-queries](https://graphdb.ontotext.com/documentation/10.5/gpt-queries.html)\n",
    "\n",
    "* magic predicates to ask an LLM for text, list or table using data from your knowledge graph (KG)\n",
    "* query explanation\n",
    "* result explanation, summarization, rephrasing, translation\n",
    "\n",
    "[retrieval-graphdb-connector](https://graphdb.ontotext.com/documentation/10.5/retrieval-graphdb-connector.html)\n",
    "\n",
    "* Indexing of KG entities in a vector database\n",
    "* Supports any text embedding algorithm and vector database\n",
    "* Uses the same powerful connector (indexing) language that GraphDB uses for Elastic, Solr, Lucene\n",
    "* Automatic synchronization of changes in RDF data to the KG entity index\n",
    "* Supports nested objects (no UI support in GraphDB version 10.5)\n",
    "* Serializes KG entities to text like this (e.g. for a Wines dataset):\n",
    "\n",
    "```\n",
    "Franvino:\n",
    "- is a RedWine.\n",
    "- made from grape Merlo.\n",
    "- made from grape Cabernet Franc.\n",
    "- has sugar dry.\n",
    "- has year 2012.\n",
    "```\n",
    "\n",
    "[talk-to-graph](https://graphdb.ontotext.com/documentation/10.5/talk-to-graph.html)\n",
    "\n",
    "* A simple chatbot using a defined KG entity index\n",
    "\n",
    "## Querying the GraphDB Database\n",
    "\n",
    "For this tutorial, we won't use the GraphDB LLM integration, but SPARQL generation from NLQ. We'll use the Star Wars API (SWAPI) ontology and dataset that you can examine [here](https://drive.google.com/file/d/1wQ2K4uZp4eq3wlJ6_F_TxkOolaiczdYp/view?usp=drive_link).\n",
    "\n",
    "You will need to have a running GraphDB instance. This tutorial shows how to run the database locally using the [GraphDB Docker image](https://hub.docker.com/r/ontotext/graphdb). It provides a docker compose set-up, which populates GraphDB with the Star Wars dataset. All nessessary files including this notebook can be downloaded from GDrive.\n",
    "\n",
    "### Set-up\n",
    "\n",
    "* Install [Docker](https://docs.docker.com/get-docker/). This tutorial is created using Docker version `24.0.7` which bundles [Docker Compose](https://docs.docker.com/compose/). For earlier Docker versions you may need to install Docker Compose separately.\n",
    "* Download all files from [GDrive](https://drive.google.com/drive/folders/18dN7WQxfGu26Z9C9HUU5jBwDuPnVTLbl) in a local folder on your machine.\n",
    "* Start GraphDB with the following script executed from this folder\n",
    "  ```\n",
    "  docker build --tag graphdb .\n",
    "  docker compose up -d graphdb\n",
    "  ```\n",
    "  You need to wait a couple of seconds for the database to start on `http://localhost:7200/`. The Star Wars dataset `starwars-data.trig` is automatically loaded into the `langchain` repository. The local SPARQL endpoint `http://localhost:7200/repositories/langchain` can be used to run queries against. You can also open the GraphDB Workbench from your favourite web browser `http://localhost:7200/sparql` where you can make queries interactively.\n",
    "* Working environment\n",
    "\n",
    "If you use `conda`, create and activate a new conda env (e.g. `conda create -n graph_ontotext_graphdb_qa python=3.9.18`).\n",
    "Install the following libraries:\n",
    "\n",
    "```\n",
    "pip install jupyter==1.0.0\n",
    "pip install openai==1.6.1\n",
    "pip install rdflib==7.0.0\n",
    "pip install langchain-openai==0.0.2\n",
    "pip install langchain\n",
    "```\n",
    "\n",
    "Run Jupyter with\n",
    "```\n",
    "jupyter notebook\n",
    "```"
   ]
  },
  {
   "cell_type": "markdown",
   "id": "e51b397c-2fdc-4b99-9fed-1ab2b6ef7547",
   "metadata": {
    "id": "e51b397c-2fdc-4b99-9fed-1ab2b6ef7547"
   },
   "source": [
    "### Specifying the Ontology\n",
    "\n",
    "In order for the LLM to be able to generate SPARQL, it needs to know the knowledge graph schema (the ontology). It can be provided using one of two parameters on the `OntotextGraphDBGraph` class:\n",
    "\n",
    "* `query_ontology`: a `CONSTRUCT` query that is executed on the SPARQL endpoint and returns the KG schema statements. We recommend that you store the ontology in its own named graph, which will make it easier to get only the relevant statements (as the example below). `DESCRIBE` queries are not supported, because `DESCRIBE` returns the Symmetric Concise Bounded Description (SCBD), i.e. also the incoming class links. In case of large graphs with a million of instances, this is not efficient. Check https://github.com/eclipse-rdf4j/rdf4j/issues/4857\n",
    "* `local_file`: a local RDF ontology file. Supported RDF formats are `Turtle`, `RDF/XML`, `JSON-LD`, `N-Triples`, `Notation-3`, `Trig`, `Trix`, `N-Quads`.\n",
    "\n",
    "In either case, the ontology dump should:\n",
    "\n",
    "* Include enough information about classes, properties, property attachment to classes (using rdfs:domain, schema:domainIncludes or OWL restrictions), and taxonomies (important individuals).\n",
    "* Not include overly verbose and irrelevant definitions and examples that do not help SPARQL construction."
   ]
  },
  {
   "cell_type": "code",
   "execution_count": 1,
   "id": "dc8792e0-acfb-4310-b5fa-8f649e448870",
   "metadata": {
    "id": "dc8792e0-acfb-4310-b5fa-8f649e448870"
   },
   "outputs": [],
   "source": [
    "from langchain_community.graphs import OntotextGraphDBGraph\n",
    "\n",
    "# feeding the schema using a user construct query\n",
    "\n",
    "graph = OntotextGraphDBGraph(\n",
    "    query_endpoint=\"http://localhost:7200/repositories/langchain\",\n",
    "    query_ontology=\"CONSTRUCT {?s ?p ?o} FROM <https://swapi.co/ontology/> WHERE {?s ?p ?o}\",\n",
    ")"
   ]
  },
  {
   "cell_type": "code",
   "execution_count": 4,
   "id": "fd9cafd2-e9ee-4343-9476-4292636a40f2",
   "metadata": {},
   "outputs": [
    {
     "name": "stdout",
     "output_type": "stream",
     "text": [
      " Volume in drive D is DRIVE\n",
      " Volume Serial Number is 64AC-E066\n",
      "\n",
      " Directory of D:\\Development\\Study\\langchain-ontotext\n",
      "\n",
      "06/02/2024  02:19 pm    <DIR>          .\n",
      "06/02/2024  02:05 pm    <DIR>          ..\n",
      "06/02/2024  02:17 pm    <DIR>          .ipynb_checkpoints\n",
      "06/02/2024  02:05 pm             1,787 config.ttl\n",
      "06/02/2024  02:05 pm               116 docker-compose.yaml\n",
      "06/02/2024  02:05 pm               247 Dockerfile\n",
      "06/02/2024  02:19 pm            20,734 graph_ontotext_graphdb_qa.ipynb\n",
      "06/02/2024  02:05 pm               980 graphdb_create.sh\n",
      "06/02/2024  02:05 pm             3,811 rdfs.ttl\n",
      "06/02/2024  02:05 pm         2,219,534 starwars-data.trig\n",
      "06/02/2024  02:05 pm            99,987 starwars-ontology.nt\n",
      "               8 File(s)      2,347,196 bytes\n",
      "               3 Dir(s)  684,690,591,744 bytes free\n"
     ]
    }
   ],
   "source": [
    "%ls"
   ]
  },
  {
   "cell_type": "code",
   "execution_count": 5,
   "id": "a08b8d8c-af01-4401-8069-5f2cd022a6df",
   "metadata": {
    "id": "a08b8d8c-af01-4401-8069-5f2cd022a6df"
   },
   "outputs": [],
   "source": [
    "# feeding the schema using a local RDF file\n",
    "\n",
    "graph = OntotextGraphDBGraph(\n",
    "    query_endpoint=\"http://localhost:7200/repositories/langchain\",\n",
    "    local_file=\"starwars-ontology.nt\",  # change the path here\n",
    ")"
   ]
  },
  {
   "cell_type": "markdown",
   "id": "583b26ce-fb0d-4e9c-b5cd-9ec0e3be8922",
   "metadata": {
    "id": "583b26ce-fb0d-4e9c-b5cd-9ec0e3be8922"
   },
   "source": [
    "Either way, the ontology (schema) is fed to the LLM as `Turtle` since `Turtle` with appropriate prefixes is most compact and easiest for the LLM to remember.\n",
    "\n",
    "The Star Wars ontology is a bit unusual in that it includes a lot of specific triples about classes, e.g. that the species `:Aleena` live on `<planet/38>`, they are a subclass of `:Reptile`, have certain typical characteristics (average height, average lifespan, skinColor), and specific individuals (characters) are representatives of that class:\n",
    "\n",
    "\n",
    "```\n",
    "@prefix : <https://swapi.co/vocabulary/> .\n",
    "@prefix owl: <http://www.w3.org/2002/07/owl#> .\n",
    "@prefix rdfs: <http://www.w3.org/2000/01/rdf-schema#> .\n",
    "@prefix xsd: <http://www.w3.org/2001/XMLSchema#> .\n",
    "\n",
    ":Aleena a owl:Class, :Species ;\n",
    "    rdfs:label \"Aleena\" ;\n",
    "    rdfs:isDefinedBy <https://swapi.co/ontology/> ;\n",
    "    rdfs:subClassOf :Reptile, :Sentient ;\n",
    "    :averageHeight 80.0 ;\n",
    "    :averageLifespan \"79\" ;\n",
    "    :character <https://swapi.co/resource/aleena/47> ;\n",
    "    :film <https://swapi.co/resource/film/4> ;\n",
    "    :language \"Aleena\" ;\n",
    "    :planet <https://swapi.co/resource/planet/38> ;\n",
    "    :skinColor \"blue\", \"gray\" .\n",
    "\n",
    "    ...\n",
    "\n",
    " ```\n"
   ]
  },
  {
   "cell_type": "markdown",
   "id": "6277d911-b0f6-4aeb-9aa5-96416b668468",
   "metadata": {
    "id": "6277d911-b0f6-4aeb-9aa5-96416b668468"
   },
   "source": [
    "In order to keep this tutorial simple, we use un-secured GraphDB. If GraphDB is secured, you should set the environment variables 'GRAPHDB_USERNAME' and 'GRAPHDB_PASSWORD' before the initialization of `OntotextGraphDBGraph`.\n",
    "\n",
    "```python\n",
    "os.environ[\"GRAPHDB_USERNAME\"] = \"graphdb-user\"\n",
    "os.environ[\"GRAPHDB_PASSWORD\"] = \"graphdb-password\"\n",
    "\n",
    "graph = OntotextGraphDBGraph(\n",
    "    query_endpoint=...,\n",
    "    query_ontology=...\n",
    ")\n",
    "```\n"
   ]
  },
  {
   "cell_type": "markdown",
   "id": "446d8a00-c98f-43b8-9e84-77b244f7bb24",
   "metadata": {
    "id": "446d8a00-c98f-43b8-9e84-77b244f7bb24"
   },
   "source": [
    "### Question Answering against the StarWars Dataset\n",
    "\n",
    "We can now use the `OntotextGraphDBQAChain` to ask some questions."
   ]
  },
  {
   "cell_type": "code",
   "execution_count": 6,
   "id": "0680b44f-d2d7-493e-aa22-c3b418ebfc29",
   "metadata": {},
   "outputs": [
    {
     "name": "stdout",
     "output_type": "stream",
     "text": [
      "Collecting python-dotenv\n",
      "  Downloading python_dotenv-1.0.1-py3-none-any.whl.metadata (23 kB)\n",
      "Downloading python_dotenv-1.0.1-py3-none-any.whl (19 kB)\n",
      "Installing collected packages: python-dotenv\n",
      "Successfully installed python-dotenv-1.0.1\n",
      "Note: you may need to restart the kernel to use updated packages.\n"
     ]
    }
   ],
   "source": [
    "%pip install python-dotenv"
   ]
  },
  {
   "cell_type": "code",
   "execution_count": 7,
   "id": "fab63d88-511d-4049-9bf0-ca8748f1fbff",
   "metadata": {
    "id": "fab63d88-511d-4049-9bf0-ca8748f1fbff"
   },
   "outputs": [],
   "source": [
    "import os\n",
    "from langchain.chains import OntotextGraphDBQAChain\n",
    "from langchain_openai import ChatOpenAI\n",
    "\n",
    "from dotenv import load_dotenv\n",
    "\n",
    "load_dotenv()\n",
    "\n",
    "# We'll be using an OpenAI model which requires an OpenAI API Key.\n",
    "# However, other models are available as well:\n",
    "# https://python.langchain.com/docs/integrations/chat/\n",
    "\n",
    "# Set the environment variable `OPENAI_API_KEY` to your OpenAI API key\n",
    "# os.environ[\"OPENAI_API_KEY\"] = \"sk-***\"\n",
    "\n",
    "# Any available OpenAI model can be used here.\n",
    "# We use 'gpt-4-1106-preview' because of the bigger context window.\n",
    "# The 'gpt-4-1106-preview' model_name will deprecate in the future and will change to 'gpt-4-turbo' or similar,\n",
    "# so be sure to consult with the OpenAI API https://platform.openai.com/docs/models for the correct naming.\n",
    "\n",
    "chain = OntotextGraphDBQAChain.from_llm(\n",
    "    ChatOpenAI(temperature=0, model_name=\"gpt-4-1106-preview\"),\n",
    "    graph=graph,\n",
    "    verbose=True,\n",
    ")"
   ]
  },
  {
   "cell_type": "markdown",
   "id": "64de8463-35b1-4c65-91e4-387daf4dd7d4",
   "metadata": {},
   "source": [
    "Let's ask a simple one."
   ]
  },
  {
   "cell_type": "code",
   "execution_count": 8,
   "id": "f1dc4bea-b0f1-48f7-99a6-351a31acac7b",
   "metadata": {},
   "outputs": [
    {
     "name": "stdout",
     "output_type": "stream",
     "text": [
      "\n",
      "\n",
      "\u001b[1m> Entering new OntotextGraphDBQAChain chain...\u001b[0m\n",
      "Generated SPARQL:\n",
      "\u001b[32;1m\u001b[1;3mPREFIX ns1: <https://swapi.co/vocabulary/>\n",
      "\n",
      "SELECT ?climate\n",
      "WHERE {\n",
      "  ?planet ns1:climate ?climate ;\n",
      "          rdfs:label \"Tatooine\" .\n",
      "}\u001b[0m\n",
      "\n",
      "\u001b[1m> Finished chain.\u001b[0m\n"
     ]
    },
    {
     "data": {
      "text/plain": [
       "'The climate on Tatooine is arid.'"
      ]
     },
     "execution_count": 8,
     "metadata": {},
     "output_type": "execute_result"
    }
   ],
   "source": [
    "chain.invoke({chain.input_key: \"What is the climate on Tatooine?\"})[chain.output_key]"
   ]
  },
  {
   "cell_type": "code",
   "execution_count": 9,
   "id": "13bd01a5-66b2-4f96-b3bf-ab66b456593c",
   "metadata": {},
   "outputs": [
    {
     "name": "stdout",
     "output_type": "stream",
     "text": [
      "\n",
      "\n",
      "\u001b[1m> Entering new OntotextGraphDBQAChain chain...\u001b[0m\n",
      "Generated SPARQL:\n",
      "\u001b[32;1m\u001b[1;3mPREFIX ns1: <https://swapi.co/vocabulary/>\n",
      "\n",
      "SELECT ?climate\n",
      "WHERE {\n",
      "  ?planet ns1:climate ?climate ;\n",
      "          rdfs:label \"Naboo\" .\n",
      "}\u001b[0m\n",
      "\n",
      "\u001b[1m> Finished chain.\u001b[0m\n"
     ]
    },
    {
     "data": {
      "text/plain": [
       "'The climate on Naboo is temperate.'"
      ]
     },
     "execution_count": 9,
     "metadata": {},
     "output_type": "execute_result"
    }
   ],
   "source": [
    "chain.invoke({chain.input_key: \"What is the climate on Naboo?\"})[chain.output_key]"
   ]
  },
  {
   "cell_type": "code",
   "execution_count": 19,
   "id": "667db2db-35f6-4250-bc21-5a73b8e657d9",
   "metadata": {
    "scrolled": true
   },
   "outputs": [
    {
     "name": "stdout",
     "output_type": "stream",
     "text": [
      "\n",
      "\n",
      "\u001b[1m> Entering new OntotextGraphDBQAChain chain...\u001b[0m\n",
      "Generated SPARQL:\n",
      "\u001b[32;1m\u001b[1;3mPREFIX ns1: <https://swapi.co/vocabulary/>\n",
      "\n",
      "SELECT ?characterName (MAX(?height) AS ?maxHeight)\n",
      "WHERE {\n",
      "  ?character ns1:height ?height ;\n",
      "             ns1:name ?characterName .\n",
      "  FILTER (?characterName IN (\"Luke Skywalker\", \"Han Solo\"))\n",
      "}\n",
      "GROUP BY ?characterName\n",
      "ORDER BY DESC(?maxHeight)\n",
      "LIMIT 1\u001b[0m\n",
      "\n",
      "\u001b[1m> Finished chain.\u001b[0m\n"
     ]
    },
    {
     "data": {
      "text/plain": [
       "'Based on the information provided, I do not have the data to determine who is taller between Luke and Han Solo. If you can provide the heights or any relevant details from a SPARQL query or another source, I would be happy to assist you with an answer.'"
      ]
     },
     "execution_count": 19,
     "metadata": {},
     "output_type": "execute_result"
    }
   ],
   "source": [
    "chain.invoke({chain.input_key: \"Who is taller, Luke or Han Solo?\"})[chain.output_key]"
   ]
  },
  {
   "cell_type": "code",
   "execution_count": 16,
   "id": "57513903-5ecd-4fc7-bace-07fa0e63d2a9",
   "metadata": {},
   "outputs": [
    {
     "name": "stdout",
     "output_type": "stream",
     "text": [
      "\n",
      "\n",
      "\u001b[1m> Entering new OntotextGraphDBQAChain chain...\u001b[0m\n",
      "Generated SPARQL:\n",
      "\u001b[32;1m\u001b[1;3mPREFIX ns1: <https://swapi.co/vocabulary/>\n",
      "PREFIX rdfs: <http://www.w3.org/2000/01/rdf-schema#>\n",
      "\n",
      "SELECT ?characterName ?height\n",
      "WHERE {\n",
      "  ?character rdfs:label ?characterName ;\n",
      "             ns1:height ?height .\n",
      "  FILTER (?characterName IN (\"Luke Skywalker\", \"Han Solo\"))\n",
      "}\n",
      "ORDER BY DESC(?height)\u001b[0m\n",
      "\n",
      "\u001b[1m> Finished chain.\u001b[0m\n"
     ]
    },
    {
     "data": {
      "text/plain": [
       "'Based on the information provided, Han Solo is taller than Luke Skywalker. Han Solo has a height of 180.0 units, while Luke Skywalker has a height of 172.0 units.'"
      ]
     },
     "execution_count": 16,
     "metadata": {},
     "output_type": "execute_result"
    }
   ],
   "source": [
    "chain.invoke({chain.input_key: \"Describe luke skywalker and han solo. From here, who is taller?\"})[chain.output_key]"
   ]
  },
  {
   "cell_type": "code",
   "execution_count": 18,
   "id": "9d158e44-e554-4a71-b148-329da3ed0501",
   "metadata": {},
   "outputs": [
    {
     "name": "stdout",
     "output_type": "stream",
     "text": [
      "\n",
      "\n",
      "\u001b[1m> Entering new OntotextGraphDBQAChain chain...\u001b[0m\n",
      "Generated SPARQL:\n",
      "\u001b[32;1m\u001b[1;3mPREFIX ns1: <https://swapi.co/vocabulary/>\n",
      "\n",
      "SELECT ?property ?value\n",
      "WHERE {\n",
      "  ?character rdfs:label \"Luke Skywalker\" .\n",
      "  ?character ?property ?value .\n",
      "}\u001b[0m\n",
      "\n",
      "\u001b[1m> Finished chain.\u001b[0m\n"
     ]
    },
    {
     "data": {
      "text/plain": [
       "'Luke Skywalker is a fictional character and the main protagonist of the original film trilogy of the Star Wars franchise created by George Lucas. Portrayed by Mark Hamill, Luke is an important figure in the Rebel Alliance\\'s struggle against the Galactic Empire. He is the twin brother of Rebellion leader Princess Leia Organa of Alderaan, a friend and brother-in-law of smuggler Han Solo, and an apprentice to Jedi Masters Obi-Wan \"Ben\" Kenobi and Yoda. Luke is the son of fallen Jedi Anakin Skywalker (Darth Vader) and Queen of Naboo/Republic Senator Padmé Amidala, and the maternal uncle of Kylo Ren / Ben Solo.\\n\\nThe character has been depicted as a powerful Jedi Master in the now non-canon Star Wars expanded universe, where he is the husband of Mara Jade, the father of Ben Skywalker, and the maternal uncle of Jaina, Jacen, and Anakin Solo. In 2015, Luke Skywalker was selected by Empire magazine as the 50th greatest movie character of all time, and Fandomania.com ranked him at number 14 on their list of the 100 Greatest Fictional Characters.\\n\\nLuke Skywalker is characterized as having fair skin, blue eyes, and blond hair. He was born in the year 19BBY (Before the Battle of Yavin) and has a prosthetic right hand. His height is 172.0 centimeters, and he weighs 77.0 kilograms. Luke\\'s homeworld is the planet Tatooine.\\n\\nIn the Star Wars universe, Luke Skywalker appears in several films, including \"Episode VI: Return of the Jedi,\" \"Episode V: The Empire Strikes Back,\" \"Episode IV: A New Hope,\" \"Episode VII: The Force Awakens,\" and others. He is also associated with various vehicles and starships, such as a T-16 skyhopper, an X-34 landspeeder, an X-wing starfighter, and an Imperial shuttle.\\n\\nLuke Skywalker is known by various names in different languages, reflecting the global impact of the Star Wars saga. Some of these names include Лүк Скайвокер in Tatar, Luk Skajvalker in Esperanto, ルーク・スカイウォーカー in Japanese, and لوك سكاي ووكر in Arabic, among others.\\n\\nAn image of Luke Skywalker in his pilot attire can be found on Wikimedia Commons. For more detailed information about Luke Skywalker, one can refer to his Wikidata entry at http://www.wikidata.org/entity/Q51746.'"
      ]
     },
     "execution_count": 18,
     "metadata": {},
     "output_type": "execute_result"
    }
   ],
   "source": [
    "chain.invoke({chain.input_key: \"Describe luke skywalker.\"})[chain.output_key]"
   ]
  },
  {
   "cell_type": "markdown",
   "id": "6d3a37f4-5c56-4b3e-b6ae-3eb030ffcc8f",
   "metadata": {},
   "source": [
    "And a bit more complicated one."
   ]
  },
  {
   "cell_type": "code",
   "execution_count": 10,
   "id": "4dde8b18-4329-4a86-abfb-26d3e77034b7",
   "metadata": {},
   "outputs": [
    {
     "name": "stdout",
     "output_type": "stream",
     "text": [
      "\n",
      "\n",
      "\u001b[1m> Entering new OntotextGraphDBQAChain chain...\u001b[0m\n",
      "Generated SPARQL:\n",
      "\u001b[32;1m\u001b[1;3mPREFIX ns1: <https://swapi.co/vocabulary/>\n",
      "PREFIX rdfs: <http://www.w3.org/2000/01/rdf-schema#>\n",
      "\n",
      "SELECT ?climate\n",
      "WHERE {\n",
      "  ?character rdfs:label \"Luke Skywalker\" .\n",
      "  ?character ns1:homeworld ?planet .\n",
      "  ?planet ns1:climate ?climate .\n",
      "}\u001b[0m\n",
      "\n",
      "\u001b[1m> Finished chain.\u001b[0m\n"
     ]
    },
    {
     "data": {
      "text/plain": [
       "\"The climate on Luke Skywalker's home planet is arid.\""
      ]
     },
     "execution_count": 10,
     "metadata": {},
     "output_type": "execute_result"
    }
   ],
   "source": [
    "chain.invoke({chain.input_key: \"What is the climate on Luke Skywalker's home planet?\"})[\n",
    "    chain.output_key\n",
    "]"
   ]
  },
  {
   "cell_type": "markdown",
   "id": "51d3ce3e-9528-4a65-8f3e-2281de08cbf1",
   "metadata": {},
   "source": [
    "We can also ask more complicated questions like"
   ]
  },
  {
   "cell_type": "code",
   "execution_count": 11,
   "id": "ab6f55f1-a3e0-4615-abd2-3cb26619c8d9",
   "metadata": {},
   "outputs": [
    {
     "name": "stdout",
     "output_type": "stream",
     "text": [
      "\n",
      "\n",
      "\u001b[1m> Entering new OntotextGraphDBQAChain chain...\u001b[0m\n",
      "Generated SPARQL:\n",
      "\u001b[32;1m\u001b[1;3mPREFIX ns1: <https://swapi.co/vocabulary/>\n",
      "\n",
      "SELECT (AVG(?boxOffice) AS ?averageBoxOfficeRevenue)\n",
      "WHERE {\n",
      "  ?film a ns1:Film .\n",
      "  ?film ns1:boxOffice ?boxOffice .\n",
      "}\u001b[0m\n",
      "\n",
      "\u001b[1m> Finished chain.\u001b[0m\n"
     ]
    },
    {
     "data": {
      "text/plain": [
       "'The average box office revenue for all the Star Wars movies is approximately 754.1 million dollars.'"
      ]
     },
     "execution_count": 11,
     "metadata": {},
     "output_type": "execute_result"
    }
   ],
   "source": [
    "chain.invoke(\n",
    "    {\n",
    "        chain.input_key: \"What is the average box office revenue for all the Star Wars movies?\"\n",
    "    }\n",
    ")[chain.output_key]"
   ]
  },
  {
   "cell_type": "markdown",
   "id": "11511345-8436-4634-92c6-36f2c0dd44db",
   "metadata": {
    "id": "11511345-8436-4634-92c6-36f2c0dd44db"
   },
   "source": [
    "### Chain Modifiers\n",
    "\n",
    "The Ontotext GraphDB QA chain allows prompt refinement for further improvement of your QA chain and enhancing the overall user experience of your app.\n",
    "\n",
    "\n",
    "#### \"SPARQL Generation\" Prompt\n",
    "\n",
    "The prompt is used for the SPARQL query generation based on the user question and the KG schema.\n",
    "\n",
    "- `sparql_generation_prompt`\n",
    "\n",
    "    Default value:\n",
    "  ````python\n",
    "    GRAPHDB_SPARQL_GENERATION_TEMPLATE = \"\"\"\n",
    "    Write a SPARQL SELECT query for querying a graph database.\n",
    "    The ontology schema delimited by triple backticks in Turtle format is:\n",
    "    ```\n",
    "    {schema}\n",
    "    ```\n",
    "    Use only the classes and properties provided in the schema to construct the SPARQL query.\n",
    "    Do not use any classes or properties that are not explicitly provided in the SPARQL query.\n",
    "    Include all necessary prefixes.\n",
    "    Do not include any explanations or apologies in your responses.\n",
    "    Do not wrap the query in backticks.\n",
    "    Do not include any text except the SPARQL query generated.\n",
    "    The question delimited by triple backticks is:\n",
    "    ```\n",
    "    {prompt}\n",
    "    ```\n",
    "    \"\"\"\n",
    "    GRAPHDB_SPARQL_GENERATION_PROMPT = PromptTemplate(\n",
    "        input_variables=[\"schema\", \"prompt\"],\n",
    "        template=GRAPHDB_SPARQL_GENERATION_TEMPLATE,\n",
    "    )\n",
    "  ````\n",
    "\n",
    "#### \"SPARQL Fix\" Prompt\n",
    "\n",
    "Sometimes, the LLM may generate a SPARQL query with syntactic errors or missing prefixes, etc. The chain will try to amend this by prompting the LLM to correct it a certain number of times.\n",
    "\n",
    "- `sparql_fix_prompt`\n",
    "\n",
    "    Default value:\n",
    "  ````python\n",
    "    GRAPHDB_SPARQL_FIX_TEMPLATE = \"\"\"\n",
    "    This following SPARQL query delimited by triple backticks\n",
    "    ```\n",
    "    {generated_sparql}\n",
    "    ```\n",
    "    is not valid.\n",
    "    The error delimited by triple backticks is\n",
    "    ```\n",
    "    {error_message}\n",
    "    ```\n",
    "    Give me a correct version of the SPARQL query.\n",
    "    Do not change the logic of the query.\n",
    "    Do not include any explanations or apologies in your responses.\n",
    "    Do not wrap the query in backticks.\n",
    "    Do not include any text except the SPARQL query generated.\n",
    "    The ontology schema delimited by triple backticks in Turtle format is:\n",
    "    ```\n",
    "    {schema}\n",
    "    ```\n",
    "    \"\"\"\n",
    "    \n",
    "    GRAPHDB_SPARQL_FIX_PROMPT = PromptTemplate(\n",
    "        input_variables=[\"error_message\", \"generated_sparql\", \"schema\"],\n",
    "        template=GRAPHDB_SPARQL_FIX_TEMPLATE,\n",
    "    )\n",
    "  ````\n",
    "\n",
    "- `max_fix_retries`\n",
    "  \n",
    "    Default value: `5`\n",
    "\n",
    "#### \"Answering\" Prompt\n",
    "\n",
    "The prompt is used for answering the question based on the results returned from the database and the initial user question. By default, the LLM is instructed to only use the information from the returned result(s). If the result set is empty, the LLM should inform that it can't answer the question.\n",
    "\n",
    "- `qa_prompt`\n",
    "  \n",
    "  Default value:\n",
    "  ````python\n",
    "    GRAPHDB_QA_TEMPLATE = \"\"\"Task: Generate a natural language response from the results of a SPARQL query.\n",
    "    You are an assistant that creates well-written and human understandable answers.\n",
    "    The information part contains the information provided, which you can use to construct an answer.\n",
    "    The information provided is authoritative, you must never doubt it or try to use your internal knowledge to correct it.\n",
    "    Make your response sound like the information is coming from an AI assistant, but don't add any information.\n",
    "    Don't use internal knowledge to answer the question, just say you don't know if no information is available.\n",
    "    Information:\n",
    "    {context}\n",
    "    \n",
    "    Question: {prompt}\n",
    "    Helpful Answer:\"\"\"\n",
    "    GRAPHDB_QA_PROMPT = PromptTemplate(\n",
    "        input_variables=[\"context\", \"prompt\"], template=GRAPHDB_QA_TEMPLATE\n",
    "    )\n",
    "  ````"
   ]
  },
  {
   "cell_type": "markdown",
   "id": "2ef8c073-003d-44ab-8a7b-cf45c50f6370",
   "metadata": {
    "id": "2ef8c073-003d-44ab-8a7b-cf45c50f6370"
   },
   "source": [
    "Once you're finished playing with QA with GraphDB, you can shut down the Docker environment by running\n",
    "``\n",
    "docker compose down -v --remove-orphans\n",
    "``\n",
    "from the directory with the Docker compose file."
   ]
  }
 ],
 "metadata": {
  "colab": {
   "provenance": [],
   "toc_visible": true
  },
  "kernelspec": {
   "display_name": "Python 3 (ipykernel)",
   "language": "python",
   "name": "python3"
  },
  "language_info": {
   "codemirror_mode": {
    "name": "ipython",
    "version": 3
   },
   "file_extension": ".py",
   "mimetype": "text/x-python",
   "name": "python",
   "nbconvert_exporter": "python",
   "pygments_lexer": "ipython3",
   "version": "3.9.18"
  }
 },
 "nbformat": 4,
 "nbformat_minor": 5
}
